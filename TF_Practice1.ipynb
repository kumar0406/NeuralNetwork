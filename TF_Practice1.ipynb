{
 "cells": [
  {
   "cell_type": "code",
   "execution_count": 1,
   "metadata": {
    "collapsed": true
   },
   "outputs": [],
   "source": [
    "import pandas as pd\n",
    "import numpy as np\n",
    "import matplotlib.pyplot as plt\n",
    "%matplotlib inline"
   ]
  },
  {
   "cell_type": "code",
   "execution_count": 2,
   "metadata": {},
   "outputs": [
    {
     "name": "stderr",
     "output_type": "stream",
     "text": [
      "C:\\Users\\INTEL\\Anaconda3\\lib\\site-packages\\h5py\\__init__.py:34: FutureWarning: Conversion of the second argument of issubdtype from `float` to `np.floating` is deprecated. In future, it will be treated as `np.float64 == np.dtype(float).type`.\n",
      "  from ._conv import register_converters as _register_converters\n"
     ]
    }
   ],
   "source": [
    "import tensorflow as tf"
   ]
  },
  {
   "cell_type": "code",
   "execution_count": 3,
   "metadata": {
    "collapsed": true
   },
   "outputs": [],
   "source": [
    "training_data = np.load('TF_intro.npz')"
   ]
  },
  {
   "cell_type": "code",
   "execution_count": 15,
   "metadata": {},
   "outputs": [
    {
     "data": {
      "text/plain": [
       "['inputs', 'targets']"
      ]
     },
     "execution_count": 15,
     "metadata": {},
     "output_type": "execute_result"
    }
   ],
   "source": [
    "training_data.keys()"
   ]
  },
  {
   "cell_type": "code",
   "execution_count": 28,
   "metadata": {},
   "outputs": [
    {
     "data": {
      "text/plain": [
       "array([[ 9.01166381,  3.11738295],\n",
       "       [ 0.07483995,  7.62442311],\n",
       "       [-9.3506131 ,  1.79262761],\n",
       "       ...,\n",
       "       [ 8.37904803,  2.38191246],\n",
       "       [-5.22503568, -8.19910093],\n",
       "       [ 5.50321933,  5.01102904]])"
      ]
     },
     "execution_count": 28,
     "metadata": {},
     "output_type": "execute_result"
    }
   ],
   "source": [
    "training_data['inputs']"
   ]
  },
  {
   "cell_type": "code",
   "execution_count": 4,
   "metadata": {
    "collapsed": true
   },
   "outputs": [],
   "source": [
    "## define the size of input and output"
   ]
  },
  {
   "cell_type": "code",
   "execution_count": 9,
   "metadata": {},
   "outputs": [
    {
     "name": "stdout",
     "output_type": "stream",
     "text": [
      "<numpy.lib.npyio.NpzFile object at 0x00000141B1BBEA90>\n"
     ]
    }
   ],
   "source": [
    "print(training_data)\n"
   ]
  },
  {
   "cell_type": "code",
   "execution_count": 18,
   "metadata": {
    "collapsed": true
   },
   "outputs": [],
   "source": [
    "input_size = 2\n",
    "output_size =1\n",
    "\n",
    "inputs = tf.placeholder(tf.float32, [None, input_size])\n",
    "targets = tf.placeholder(tf.float32, [None, output_size])\n",
    "\n",
    "weights = tf.Variable(tf.random_uniform([input_size, output_size], minval= -0.1, maxval=0.1))\n",
    "biases = tf.Variable(tf.random_uniform([output_size], minval=-0.1, maxval=0.1))\n",
    "\n",
    "outputs = tf.matmul(inputs, weights) + biases"
   ]
  },
  {
   "cell_type": "code",
   "execution_count": 19,
   "metadata": {
    "collapsed": true
   },
   "outputs": [],
   "source": [
    "## loss function"
   ]
  },
  {
   "cell_type": "code",
   "execution_count": 20,
   "metadata": {},
   "outputs": [],
   "source": [
    "mean_loss = tf.losses.mean_squared_error(labels= targets   , predictions=outputs)/2.\n",
    "\n",
    "optimizer = tf.train.GradientDescentOptimizer(learning_rate= 0.05).minimize(mean_loss)"
   ]
  },
  {
   "cell_type": "code",
   "execution_count": 26,
   "metadata": {
    "collapsed": true
   },
   "outputs": [],
   "source": [
    "## exec\n",
    "\n",
    "sess = tf.InteractiveSession()"
   ]
  },
  {
   "cell_type": "code",
   "execution_count": 27,
   "metadata": {},
   "outputs": [],
   "source": [
    "initializer = tf.global_variables_initializer()\n",
    "sess.run(initializer)"
   ]
  },
  {
   "cell_type": "code",
   "execution_count": 30,
   "metadata": {},
   "outputs": [
    {
     "name": "stdout",
     "output_type": "stream",
     "text": [
      "243.54416\n",
      "135.60147\n",
      "77.2698\n",
      "45.500786\n",
      "28.024332\n",
      "18.271156\n",
      "12.710637\n",
      "9.439868\n",
      "7.4307323\n",
      "6.1262264\n",
      "5.223514\n",
      "4.5570564\n",
      "4.03561\n",
      "3.6082091\n",
      "3.2458026\n",
      "2.9313166\n",
      "2.6542838\n",
      "2.4079242\n",
      "2.187555\n",
      "1.9897331\n",
      "1.8117673\n",
      "1.651456\n",
      "1.5069357\n",
      "1.37659\n",
      "1.2589952\n",
      "1.152886\n",
      "1.0571313\n",
      "0.9707156\n",
      "0.89272505\n",
      "0.8223363\n",
      "0.75880885\n",
      "0.70147216\n",
      "0.649723\n",
      "0.60301757\n",
      "0.5608629\n",
      "0.5228164\n",
      "0.4884774\n",
      "0.457485\n",
      "0.42951226\n",
      "0.4042655\n",
      "0.38147894\n",
      "0.3609131\n",
      "0.34235075\n",
      "0.32559764\n",
      "0.3104773\n",
      "0.29683003\n",
      "0.28451297\n",
      "0.27339604\n",
      "0.26336238\n",
      "0.2543065\n",
      "0.24613303\n",
      "0.23875622\n",
      "0.23209797\n",
      "0.22608878\n",
      "0.22066511\n",
      "0.2157699\n",
      "0.21135178\n",
      "0.20736428\n",
      "0.20376532\n",
      "0.200517\n",
      "0.19758525\n",
      "0.19493909\n",
      "0.19255093\n",
      "0.19039547\n",
      "0.1884501\n",
      "0.18669419\n",
      "0.18510944\n",
      "0.18367916\n",
      "0.18238816\n",
      "0.18122314\n",
      "0.18017156\n",
      "0.17922239\n",
      "0.17836569\n",
      "0.17759264\n",
      "0.1768948\n",
      "0.17626496\n",
      "0.17569649\n",
      "0.17518346\n",
      "0.17472036\n",
      "0.17430246\n",
      "0.17392524\n",
      "0.17358483\n",
      "0.17327753\n",
      "0.17300019\n",
      "0.1727499\n",
      "0.17252399\n",
      "0.17232005\n",
      "0.17213607\n",
      "0.17196998\n",
      "0.17182004\n",
      "0.17168479\n",
      "0.17156269\n",
      "0.1714524\n",
      "0.17135297\n",
      "0.17126316\n",
      "0.1711821\n",
      "0.17110904\n",
      "0.17104298\n",
      "0.17098343\n",
      "0.17092963\n"
     ]
    }
   ],
   "source": [
    "for e in range(100):\n",
    "    _, curr_loss = sess.run([optimizer, mean_loss],\n",
    "                           feed_dict = {inputs : training_data['inputs'], targets : training_data['targets'] })\n",
    "    \n",
    "    print(curr_loss)\n",
    "    "
   ]
  },
  {
   "cell_type": "code",
   "execution_count": null,
   "metadata": {
    "collapsed": true
   },
   "outputs": [],
   "source": []
  }
 ],
 "metadata": {
  "kernelspec": {
   "display_name": "Python 3",
   "language": "python",
   "name": "python3"
  },
  "language_info": {
   "codemirror_mode": {
    "name": "ipython",
    "version": 3
   },
   "file_extension": ".py",
   "mimetype": "text/x-python",
   "name": "python",
   "nbconvert_exporter": "python",
   "pygments_lexer": "ipython3",
   "version": "3.6.3"
  }
 },
 "nbformat": 4,
 "nbformat_minor": 2
}
