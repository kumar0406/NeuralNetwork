{
 "cells": [
  {
   "cell_type": "code",
   "execution_count": 1,
   "metadata": {
    "collapsed": true
   },
   "outputs": [],
   "source": [
    "import numpy as np"
   ]
  },
  {
   "cell_type": "code",
   "execution_count": 2,
   "metadata": {},
   "outputs": [
    {
     "name": "stderr",
     "output_type": "stream",
     "text": [
      "C:\\Users\\INTEL\\Anaconda3\\lib\\site-packages\\h5py\\__init__.py:34: FutureWarning: Conversion of the second argument of issubdtype from `float` to `np.floating` is deprecated. In future, it will be treated as `np.float64 == np.dtype(float).type`.\n",
      "  from ._conv import register_converters as _register_converters\n"
     ]
    }
   ],
   "source": [
    "import matplotlib.pyplot as plt\n",
    "import tensorflow as tf"
   ]
  },
  {
   "cell_type": "code",
   "execution_count": 3,
   "metadata": {
    "collapsed": true
   },
   "outputs": [],
   "source": [
    "observations = 1000\n",
    "\n",
    "xs = np.random.uniform(-10, 10, (observations,1))\n",
    "zs = np.random.uniform(-10,10,(observations, 1))\n",
    "\n",
    "generated_inputs = np.column_stack((xs,zs))\n",
    "\n",
    "noise = np.random.uniform(-1,1,(observations,1))\n",
    "\n",
    "generated_target = 2*xs + 3*zs + 5 + noise\n",
    "\n",
    "np.savez('TF_intro', inputs = generated_inputs, targets = generated_target)"
   ]
  },
  {
   "cell_type": "code",
   "execution_count": 4,
   "metadata": {
    "collapsed": true
   },
   "outputs": [],
   "source": [
    "## file is created \n",
    "## define the size of input and output"
   ]
  },
  {
   "cell_type": "code",
   "execution_count": 5,
   "metadata": {
    "collapsed": true
   },
   "outputs": [],
   "source": [
    "input_size = 2\n",
    "output_size = 1"
   ]
  },
  {
   "cell_type": "code",
   "execution_count": 6,
   "metadata": {
    "collapsed": true
   },
   "outputs": [],
   "source": [
    "# outlying the model "
   ]
  },
  {
   "cell_type": "code",
   "execution_count": 12,
   "metadata": {
    "collapsed": true
   },
   "outputs": [],
   "source": [
    "## Define the placeholder\n",
    "inputs = tf.placeholder(tf.float32, [None, input_size])\n",
    "targets = tf.placeholder(tf.float32, [None, output_size])"
   ]
  },
  {
   "cell_type": "code",
   "execution_count": 13,
   "metadata": {
    "collapsed": true
   },
   "outputs": [],
   "source": [
    "## Define weights and biases - variables\n",
    "weights = tf.Variable(tf.random_uniform([input_size, output_size], minval = -0.1, maxval = 0.1))\n",
    "biases = tf.Variable(tf.random_uniform([output_size], minval = -0.1, maxval = 0.1))\n",
    "\n",
    "output = tf.matmul(inputs,weights) +biases"
   ]
  },
  {
   "cell_type": "markdown",
   "metadata": {},
   "source": [
    "## choosing the objective function and optimization method"
   ]
  },
  {
   "cell_type": "code",
   "execution_count": 16,
   "metadata": {
    "collapsed": true
   },
   "outputs": [],
   "source": [
    "mean_loss = tf.losses.mean_squared_error(labels = targets, predictions = output)/2.\n",
    "\n",
    "optimize = tf.train.GradientDescentOptimizer(learning_rate=0.05).minimize(mean_loss)"
   ]
  },
  {
   "cell_type": "markdown",
   "metadata": {},
   "source": [
    "## prepair for executation"
   ]
  },
  {
   "cell_type": "code",
   "execution_count": 17,
   "metadata": {
    "collapsed": true
   },
   "outputs": [],
   "source": [
    "sess = tf.InteractiveSession()"
   ]
  },
  {
   "cell_type": "code",
   "execution_count": 20,
   "metadata": {
    "collapsed": true
   },
   "outputs": [],
   "source": [
    "## training happens in session\n",
    "## now we will change the value of weights and biases\n",
    "## but first we must initialize the weights and biases.... this process is knownas initialization"
   ]
  },
  {
   "cell_type": "code",
   "execution_count": 21,
   "metadata": {
    "collapsed": true
   },
   "outputs": [],
   "source": [
    "initializer = tf.global_variables_initializer()\n",
    "## this method initialize all tensor objects as variable"
   ]
  },
  {
   "cell_type": "code",
   "execution_count": 27,
   "metadata": {},
   "outputs": [
    {
     "name": "stdout",
     "output_type": "stream",
     "text": [
      "0.17043163\n",
      "0.17043158\n",
      "0.17043164\n",
      "0.17043158\n",
      "0.17043161\n",
      "0.17043164\n",
      "0.17043161\n",
      "0.17043161\n",
      "0.17043161\n",
      "0.1704316\n",
      "0.1704316\n",
      "0.1704316\n",
      "0.17043164\n",
      "0.17043158\n",
      "0.17043163\n",
      "0.17043157\n",
      "0.1704316\n",
      "0.17043157\n",
      "0.17043161\n",
      "0.1704316\n",
      "0.17043161\n",
      "0.17043158\n",
      "0.17043161\n",
      "0.17043158\n",
      "0.17043161\n",
      "0.17043158\n",
      "0.1704316\n",
      "0.1704316\n",
      "0.17043158\n",
      "0.17043161\n",
      "0.1704316\n",
      "0.17043158\n",
      "0.17043161\n",
      "0.17043158\n",
      "0.17043161\n",
      "0.1704316\n",
      "0.17043161\n",
      "0.17043161\n",
      "0.17043161\n",
      "0.17043161\n",
      "0.17043161\n",
      "0.17043161\n",
      "0.1704316\n",
      "0.17043161\n",
      "0.17043158\n",
      "0.17043164\n",
      "0.17043161\n",
      "0.17043163\n",
      "0.17043161\n",
      "0.17043164\n",
      "0.17043161\n",
      "0.17043161\n",
      "0.17043161\n",
      "0.17043161\n",
      "0.17043161\n",
      "0.1704316\n",
      "0.17043161\n",
      "0.17043161\n",
      "0.17043161\n",
      "0.1704316\n",
      "0.1704316\n",
      "0.17043158\n",
      "0.17043158\n",
      "0.17043161\n",
      "0.17043161\n",
      "0.17043161\n",
      "0.1704316\n",
      "0.17043158\n",
      "0.17043158\n",
      "0.17043158\n",
      "0.17043158\n",
      "0.17043158\n",
      "0.17043158\n",
      "0.17043158\n",
      "0.17043158\n",
      "0.17043158\n",
      "0.17043158\n",
      "0.17043158\n",
      "0.17043158\n",
      "0.17043158\n",
      "0.17043158\n",
      "0.17043158\n",
      "0.17043158\n",
      "0.17043158\n",
      "0.17043158\n",
      "0.17043158\n",
      "0.17043158\n",
      "0.17043158\n",
      "0.17043158\n",
      "0.17043158\n",
      "0.17043158\n",
      "0.17043158\n",
      "0.17043158\n",
      "0.17043158\n",
      "0.17043158\n",
      "0.17043158\n",
      "0.17043158\n",
      "0.17043158\n",
      "0.17043158\n",
      "0.17043158\n"
     ]
    }
   ],
   "source": [
    "## sess.run(what we want to run)\n",
    "\n",
    "\n",
    "sess.run(initializer)\n",
    "## the variables have been initialize\n",
    "\n",
    "## Load the training data\n",
    "\n",
    "training_data = np.load('TF_intro.npz')\n",
    "\n",
    "## Foe loop for minimizing the loss function\n",
    "\n",
    "for e in range(100):\n",
    "    _,curr_loss = sess.run([optimize, mean_loss ], \n",
    "                         feed_dict= {inputs: training_data['inputs'],targets :training_data['targets'] })\n",
    "    print(curr_loss)"
   ]
  },
  {
   "cell_type": "code",
   "execution_count": null,
   "metadata": {
    "collapsed": true
   },
   "outputs": [],
   "source": []
  }
 ],
 "metadata": {
  "kernelspec": {
   "display_name": "Python 3",
   "language": "python",
   "name": "python3"
  },
  "language_info": {
   "codemirror_mode": {
    "name": "ipython",
    "version": 3
   },
   "file_extension": ".py",
   "mimetype": "text/x-python",
   "name": "python",
   "nbconvert_exporter": "python",
   "pygments_lexer": "ipython3",
   "version": "3.6.3"
  }
 },
 "nbformat": 4,
 "nbformat_minor": 2
}
